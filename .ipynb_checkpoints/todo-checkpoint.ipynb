{
 "cells": [
  {
   "cell_type": "markdown",
   "id": "b30f2886",
   "metadata": {},
   "source": [
    "# To Do App"
   ]
  },
  {
   "cell_type": "code",
   "execution_count": 2,
   "id": "bca6dbf5",
   "metadata": {},
   "outputs": [],
   "source": [
    "import datetime\n",
    "import tkinter as tk\n",
    "from tkinter import messagebox"
   ]
  },
  {
   "cell_type": "code",
   "execution_count": null,
   "id": "3b5a39b8",
   "metadata": {},
   "outputs": [],
   "source": []
  }
 ],
 "metadata": {
  "kernelspec": {
   "display_name": "Python 3 (ipykernel)",
   "language": "python",
   "name": "python3"
  },
  "language_info": {
   "codemirror_mode": {
    "name": "ipython",
    "version": 3
   },
   "file_extension": ".py",
   "mimetype": "text/x-python",
   "name": "python",
   "nbconvert_exporter": "python",
   "pygments_lexer": "ipython3",
   "version": "3.11.4"
  }
 },
 "nbformat": 4,
 "nbformat_minor": 5
}
