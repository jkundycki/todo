{
 "cells": [
  {
   "cell_type": "markdown",
   "id": "b30f2886",
   "metadata": {},
   "source": [
    "# To Do App"
   ]
  },
  {
   "cell_type": "markdown",
   "id": "2874ce9a",
   "metadata": {},
   "source": [
    "## Elements"
   ]
  },
  {
   "cell_type": "code",
   "execution_count": 66,
   "id": "bca6dbf5",
   "metadata": {},
   "outputs": [],
   "source": [
    "#Import Required Libraries\n",
    "import datetime\n",
    "import tkinter as tk\n",
    "from tkinter import *"
   ]
  },
  {
   "cell_type": "code",
   "execution_count": 49,
   "id": "231ac834",
   "metadata": {},
   "outputs": [],
   "source": [
    "# Create dictionary for tasks\n",
    "goals = {}\n",
    "\n",
    "# Add Item Button\n",
    "def add_item():\n",
    "    s = input()\n",
    "    if s not in goals.keys():\n",
    "        goals[s] = False\n",
    "        print(s, \"was added as a goal to the to do list.\")\n",
    "    else:\n",
    "        print(\"This goal has already been added.\")\n",
    "    \n",
    "\n",
    "# Remove Item Button\n",
    "def remove_item():\n",
    "    s = input()\n",
    "    try:\n",
    "        del goals[s]\n",
    "        print(s, \"was removed as a goal from the to do list.\")\n",
    "    except KeyError:\n",
    "        print(\"Goal not found. Please enter a current goal to remove.\")\n",
    "\n",
    "# Check Box\n",
    "\n",
    "# Daily Reset"
   ]
  },
  {
   "cell_type": "markdown",
   "id": "5832730b",
   "metadata": {},
   "source": [
    "## GUI"
   ]
  },
  {
   "cell_type": "code",
   "execution_count": 89,
   "id": "0120e3ea",
   "metadata": {},
   "outputs": [],
   "source": [
    "# GUI\n",
    "\n",
    "class MyWindow:\n",
    "    def __init__(self, win):\n",
    "        self.lbl1=Label(win, text='# of Die Sides')\n",
    "        self.lbl3=Label(win, text='To Do List', font=(\"Helvetica\", 20))\n",
    "        self.t1=Entry()\n",
    "        self.lbl1.place(x=100, y=100)\n",
    "        self.t1.place(x=200, y=100)\n",
    "        # Add Item Button\n",
    "        self.b1=Button(win, text='Add Item', font=(\"Helvetica\", 16), command=self.roll)\n",
    "        self.b1.place(x=50, y=400)\n",
    "        self.b1.config(height=1, width=12)\n",
    "        # Remove Item Button\n",
    "        self.b2=Button(win, text='Remove Item', font=(\"Helvetica\", 16), command=self.roll)\n",
    "        self.b2.place(x=220, y=400)\n",
    "        self.b2.config(height=1, width=12)\n",
    "        \n",
    "        self.lbl3.place(x=100, y=35)\n",
    "    def roll(self):\n",
    "        self.t2.delete(0, 'end')\n",
    "        n=int(self.t1.get())\n",
    "        result=randint(1,n)\n",
    "        self.t2.insert(END, str(result))\n",
    "\n",
    "        \n",
    "# Run Window\n",
    "window=Tk()\n",
    "mywin=MyWindow(window)\n",
    "window.title('To Do')\n",
    "window.geometry(\"400x500+10+20\")\n",
    "window.mainloop()"
   ]
  },
  {
   "cell_type": "code",
   "execution_count": 121,
   "id": "734bb63f",
   "metadata": {},
   "outputs": [
    {
     "name": "stdout",
     "output_type": "stream",
     "text": [
      "a was added as a goal to the to do list.\n",
      "This goal has already been added.\n",
      "Goal not found. Please enter a current goal to remove.\n",
      "a was removed as a goal from the to do list.\n"
     ]
    }
   ],
   "source": [
    "# GUI\n",
    "\n",
    "class MyWindow:\n",
    "    def __init__(self, win):\n",
    "        goals = {}\n",
    "        for i in range(0,len(goals)):\n",
    "            self.i = Label(win, text = f'{i}')\n",
    "            self.i.place(x=100, y=(100-(20*i)))\n",
    "\n",
    "        \n",
    "        # Window Title\n",
    "        self.windowtitle=Label(win, text='To Do List', font=(\"Helvetica\", 30))\n",
    "        self.windowtitle.place(x=85, y=10)\n",
    "        # User Input Box\n",
    "        self.entry=Entry()\n",
    "        self.entry.place(x=120, y=370)\n",
    "        # Add Item Button\n",
    "        self.additem=Button(win, text='Add Item', font=(\"Helvetica\", 16), command=self.add_item)\n",
    "        self.additem.place(x=50, y=400)\n",
    "        self.additem.config(height=1, width=12)\n",
    "        # Remove Item Button\n",
    "        self.removeitem=Button(win, text='Remove Item', font=(\"Helvetica\", 16), command=self.remove_item)\n",
    "        self.removeitem.place(x=220, y=400)\n",
    "        self.removeitem.config(height=1, width=12)\n",
    "        \n",
    "    def add_item(self):\n",
    "        s = self.entry.get()\n",
    "        if s not in goals.keys():\n",
    "            goals[s] = False\n",
    "            print(s, \"was added as a goal to the to do list.\")\n",
    "        else:\n",
    "            print(\"This goal has already been added.\")\n",
    "    \n",
    "    def remove_item(self):\n",
    "        s = self.entry.get()\n",
    "        try:\n",
    "            del goals[s]\n",
    "            print(s, \"was removed as a goal from the to do list.\")\n",
    "        except KeyError:\n",
    "            print(\"Goal not found. Please enter a current goal to remove.\")\n",
    "\n",
    "\n",
    "        \n",
    "# Run Window\n",
    "window=Tk()\n",
    "mywin=MyWindow(window)\n",
    "window.title('To Do')\n",
    "window.geometry(\"400x500+10+20\")\n",
    "window.mainloop()"
   ]
  },
  {
   "cell_type": "code",
   "execution_count": null,
   "id": "4c1d0cd6",
   "metadata": {},
   "outputs": [],
   "source": []
  }
 ],
 "metadata": {
  "kernelspec": {
   "display_name": "Python 3 (ipykernel)",
   "language": "python",
   "name": "python3"
  },
  "language_info": {
   "codemirror_mode": {
    "name": "ipython",
    "version": 3
   },
   "file_extension": ".py",
   "mimetype": "text/x-python",
   "name": "python",
   "nbconvert_exporter": "python",
   "pygments_lexer": "ipython3",
   "version": "3.11.4"
  }
 },
 "nbformat": 4,
 "nbformat_minor": 5
}
